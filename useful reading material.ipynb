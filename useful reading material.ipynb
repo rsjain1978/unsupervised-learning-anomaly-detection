{
 "cells": [
  {
   "cell_type": "markdown",
   "metadata": {},
   "source": [
    "# Useful reading material\n",
    "\n",
    "    - https://www.analyticsvidhya.com/blog/2019/02/outlier-detection-python-pyod/"
   ]
  },
  {
   "cell_type": "markdown",
   "metadata": {},
   "source": [
    "# Useful videos\n",
    "\n",
    "    - https://www.youtube.com/watch?v=086OcT-5DYI&list=PLLssT5z_DsK-h9vYZkQkYNWcItqhlRJLN&index=88"
   ]
  },
  {
   "cell_type": "code",
   "execution_count": null,
   "metadata": {},
   "outputs": [],
   "source": []
  }
 ],
 "metadata": {
  "kernelspec": {
   "display_name": "Python 3",
   "language": "python",
   "name": "python3"
  },
  "language_info": {
   "codemirror_mode": {
    "name": "ipython",
    "version": 3
   },
   "file_extension": ".py",
   "mimetype": "text/x-python",
   "name": "python",
   "nbconvert_exporter": "python",
   "pygments_lexer": "ipython3",
   "version": "3.7.3"
  }
 },
 "nbformat": 4,
 "nbformat_minor": 2
}
